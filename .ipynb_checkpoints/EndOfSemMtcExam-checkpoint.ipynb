{
 "cells": [
  {
   "cell_type": "markdown",
   "id": "9240ce3f-6bc7-4fa2-9163-37a9a4ae55e1",
   "metadata": {},
   "source": [
    "##  Introduction To Mathematical Computing (CSD 115 )\n",
    "### 2/12/2024\n",
    "#### 2024/DSC/0038/SS                        "
   ]
  },
  {
   "cell_type": "code",
   "execution_count": 1,
   "id": "24dc4a21-3313-4fef-bdee-6fa12b3aba85",
   "metadata": {},
   "outputs": [],
   "source": [
    "# importing libraries\n",
    "import numpy as np \n",
    "import matplotlib.pyplot as plt\n",
    "import seaborn as sns\n",
    "from scipy.linalg import lu\n",
    "from numpy import random"
   ]
  },
  {
   "cell_type": "markdown",
   "id": "f7f01a71-4fe9-4dd8-929b-da003c018ff0",
   "metadata": {},
   "source": [
    "### Question five"
   ]
  },
  {
   "cell_type": "code",
   "execution_count": 3,
   "id": "6f9fda8e-c186-42b1-aa55-f297be6a39a5",
   "metadata": {},
   "outputs": [
    {
     "name": "stdout",
     "output_type": "stream",
     "text": [
      "[[1.  0.2 0.5]\n",
      " [0.2 1.  0.8]\n",
      " [0.5 0.8 1. ]]\n"
     ]
    }
   ],
   "source": [
    "#computing the matrix using a numpy array\n",
    "matrix = np.array([[1,0.2,0.5],[0.2,1,0.8],[0.5,0.8,1]])\n",
    "print(matrix)"
   ]
  },
  {
   "cell_type": "markdown",
   "id": "afd7e0f5-f6ea-44f3-8747-79850e450b34",
   "metadata": {},
   "source": [
    "#### (i)"
   ]
  },
  {
   "cell_type": "code",
   "execution_count": 6,
   "id": "c09ab815-5832-434f-b4eb-844b8041dde9",
   "metadata": {},
   "outputs": [
    {
     "name": "stdout",
     "output_type": "stream",
     "text": [
      "[[1.  0.2 0.5]\n",
      " [0.2 1.  0.8]\n",
      " [0.5 0.8 1. ]]\n"
     ]
    }
   ],
   "source": [
    "#finding the transpose of a matrix\n",
    "Transpose = np.transpose(matrix)\n",
    "print(Transpose)"
   ]
  },
  {
   "cell_type": "code",
   "execution_count": 7,
   "id": "09d57a91-529f-41a8-9491-73d247aa0681",
   "metadata": {},
   "outputs": [
    {
     "name": "stdout",
     "output_type": "stream",
     "text": [
      "[[ 1.56521739  0.86956522 -1.47826087]\n",
      " [ 0.86956522  3.26086957 -3.04347826]\n",
      " [-1.47826087 -3.04347826  4.17391304]]\n"
     ]
    }
   ],
   "source": [
    "#inversion of the matrix(Transpose)\n",
    "inversion_matrix = np.linalg.inv(Transpose)\n",
    "print(inversion_matrix)"
   ]
  },
  {
   "cell_type": "markdown",
   "id": "a678f80d-28e4-417e-a4e2-9025e8148f3f",
   "metadata": {},
   "source": [
    "#### (ii)"
   ]
  },
  {
   "cell_type": "code",
   "execution_count": 8,
   "id": "3940f3b9-ee83-48bf-a7e7-924851a884e6",
   "metadata": {},
   "outputs": [
    {
     "name": "stdout",
     "output_type": "stream",
     "text": [
      "0.2299999999999999\n"
     ]
    }
   ],
   "source": [
    "#determinant of the matrix\n",
    "determinant = np.linalg.det(matrix)\n",
    "print(determinant)"
   ]
  },
  {
   "cell_type": "markdown",
   "id": "0c8f9dce-70c8-4f00-92ef-159e38bad7fd",
   "metadata": {},
   "source": [
    "#### (iii)"
   ]
  },
  {
   "cell_type": "code",
   "execution_count": 35,
   "id": "9f636a63-fbc5-4843-8a62-714541c7bfd5",
   "metadata": {},
   "outputs": [
    {
     "name": "stdout",
     "output_type": "stream",
     "text": [
      "The identity matrix is:\n",
      "[[1. 0. 0.]\n",
      " [0. 1. 0.]\n",
      " [0. 0. 1.]]\n",
      "The lower triangular matrix is :\n",
      "[[1.         0.         0.        ]\n",
      " [0.2        1.         0.        ]\n",
      " [0.5        0.72916667 1.        ]]\n",
      "The upper triangular matrix is:\n",
      "[[1.         0.2        0.5       ]\n",
      " [0.         0.96       0.7       ]\n",
      " [0.         0.         0.23958333]]\n"
     ]
    }
   ],
   "source": [
    "#decomposing the matrix/breaking down the matrix\n",
    "I,L,U = lu(matrix)\n",
    "#I is the identity matrix\n",
    "#L is the lower triangular matrix\n",
    "#u is the upper triangular matrix\n",
    "\n",
    "#printing the matrices \n",
    "print(\"The identity matrix is:\")\n",
    "print(I)\n",
    "print(\"The lower triangular matrix is :\")\n",
    "print(L)\n",
    "print(\"The upper triangular matrix is:\")\n",
    "print(U)"
   ]
  },
  {
   "cell_type": "markdown",
   "id": "d8b2eb0d-fe4a-4662-bc6e-7958af22200a",
   "metadata": {},
   "source": [
    "#### (iv)"
   ]
  },
  {
   "cell_type": "code",
   "execution_count": 37,
   "id": "f8de5da0-6110-4e67-b646-ab6b7e1b27d5",
   "metadata": {},
   "outputs": [],
   "source": [
    "#transforming the matrix\n",
    "matrix = np.array([[1,0.2,0.5],[0.2,1,0.8],[0.5,0.8,1]])\n",
    "\n"
   ]
  },
  {
   "cell_type": "markdown",
   "id": "755b70b3-fa5b-4ff3-b2c9-e355b8be2ac4",
   "metadata": {},
   "source": [
    "## Question six"
   ]
  },
  {
   "cell_type": "markdown",
   "id": "feaa5e99-9c51-423b-9110-a6fead449a9f",
   "metadata": {},
   "source": [
    "#### (i)"
   ]
  },
  {
   "cell_type": "code",
   "execution_count": 34,
   "id": "eb5b4dce-667a-46a9-8752-a3af110a6fd0",
   "metadata": {},
   "outputs": [
    {
     "name": "stdout",
     "output_type": "stream",
     "text": [
      "[10  6  3  7  3  5  6  5  4  2  8  6  2 10  4  5  7  3  4  3  2 10  5  4\n",
      "  5  6  1  5  5  2  4  8  8  6  5  5  4  3  3  7  8  5  6 12  5  3  2  5\n",
      "  6  6  4  8  4  4  3  5  5  9  3  6  7  6  8  4  5  5  0  5  5  7  5  1\n",
      "  5  4  6  7  5  7  5  3 12  7  3  4  1  9  8  5  4  6  4  2  5  6  6  3\n",
      "  9  7  3  7  6  8 10  2  3  5  4  7  7  8  6  5  4  6  5  5  6  2  4  9\n",
      "  1  2  2  9  3  9 10  5  3  2  5  3  6  5  5  1  5  9  5  6  3  8  8  4\n",
      "  6  8  7  2  7  4  1  3  3  3  6  3  7  4  7  6  8  8  4  5  3  4 10  2\n",
      "  5  8  5  2  8  5  5  5  7  3  3  8  6  5  4  6  5  5  9  5 10  3  3  3\n",
      "  3  1  7  2  5  8  4  2  4  6  5  6  4  2  7  4  6  3  3  6  4  5  8  2\n",
      "  5  2  6  2  4  6  6  8  7  4  7  2  6  6  4  4  1  3  4  3  3  5  3  6\n",
      "  5  7  5  1  2  7  7  4  5  2  4  4  2  4  3  2  4  6  6  5  3  4  2  4\n",
      "  5  6  7  6  5  6  3  7  6  2  4  2  0  3  5  6  7  2  6  2  3  5  8  7\n",
      "  4  4  7  9  3  7  6  6 12  1  9  8  4  3  8  7  7  4  5 12  3  3  4  5\n",
      "  4  5  7  5  6  6  6  5  4  5  3  5  3  6  6  2  9  5  8  6 11  3  8  8\n",
      "  0  3  5  3  6  3  6  5  9  5  5  4 10  1  6  1  4  9  7  8  5  3  2  5\n",
      "  6  4  5  6  2  4  1  3  3  6  6  7  8  6  7  8 10  2  8  3  6  3  3  2\n",
      "  7  4  5  5  6  4  3  4  6  9  2  7  3  4  3  8  4  7  7  3  3  8  4  7\n",
      "  9  8  4  7  4  0  5 10  2  4  5  1  5  5  3  3  9  9  5  6  3  7  6  2\n",
      "  1  5  5  7  6  2  5  3  6  2  6  6  6  5  2 10  5  3  2  4  4  6  5  5\n",
      "  4  0  6  2  8  6  3  4  4  8  4  7  4  5  4  4  4  2  3 11  8  5  6  5\n",
      "  3  3  3  4  7  9  5  9  1  7  6  7  6  5  4  7  1  2  6  4  3  6  3  4\n",
      "  3  6  5  6  7  3  4  4  5  7  8  5  2  1  3  6  5  6  3  3  4  5  7  4\n",
      "  5  5  7  6  2  5  1  8  4  5  6  7 10  5  8  8  4  4  7  4  7  7  1  7\n",
      "  2  0  9  3  6  2  7  3  2  5  4 11  4  4  7  4  6  3  6  7  3  7  6  1\n",
      "  6  8  6  4  4  4  2 10  2  4  5  5  3 10  6  7  8  3  8  4  3  4  8  5\n",
      "  5  1  2  6  7  4  5  4  5  6  3  9  1  7  6  3  1  6  4  4 10  4  6  7\n",
      " 10  6  7  3  8  4  1  1  5  6  8  5 12  5  6  5  4  7  5  6  7  2  4  6\n",
      "  4  8  7  6  3  6  2  4  4  4  4  4  2  6  8  5  4  5  6  6  4  6  3  3\n",
      "  1  4  8  7  6  3  2  4  6  3  2  6  3  7  4  4  6  6  4 12  5  8  4  6\n",
      " 13  5  3  6  5  6  2  6  5  4  5  1 12  0  3  6  5  4  5  4  6  4  3  8\n",
      "  4  0  4  6  3  6  1  6  3  5  4  4  4  5  7  9  5  3  3  4  4  5  9 10\n",
      "  7  3  7  2  2  8  2  4  4  3  1  5  5  4 10  4  6  9  4  8  9  3  6  6\n",
      "  3  5  5  5  4  3  6  3  6  8 10  3  6  5 11  5  4  4  6  4  9  4  5  3\n",
      "  8  5  7  7  3  6  3  4 10  3  4  1  6  5  9 10  1  5  5  7  8  6  3  3\n",
      "  3 10  6  2  6  2  7  9  9  6  7  4  7  4  3  7  8  7  0  5  4  8  8  6\n",
      "  6  3 11  6  3  4  4  7  5  2  8  7  5  5  6  6  6  2  1  0  2  3  6  4\n",
      "  6  4  3  5  4  2  8 10  9  3  4  2  4  3  6  3  5  5  2  2  2 10  3  3\n",
      "  4 10  2  4  6  6  3  9  5  4  6  6  7  4  7  5  5  6  3  4  6  7  4  4\n",
      "  8  3  5  4  5  2  7  7  6  1  8 11  6  4  6  5  8  6  4  8  4  3  2  5\n",
      "  1  4  6  5  4  6  5  4  6  5  6  4  3  2  7  2  4  8  4  4  1  4  6  7\n",
      "  5  5  7  5  4  3  6  6  2  6  2  2  4  4  5  3  3  8  1  6  0  5  5  5\n",
      "  3  7 13  4  3  2  6  6  3  4  3  6  2  5  2  5]\n"
     ]
    }
   ],
   "source": [
    "#generating 1,000 random samples from poisson distribution\n",
    "random_samples = random.poisson(lam=5,size =1000) #lam is an average of 5 customers\n",
    "print(random_samples) #printing the 1000 random samples"
   ]
  },
  {
   "cell_type": "markdown",
   "id": "95508567-487a-469c-a946-ff9eb8690f8e",
   "metadata": {},
   "source": [
    "#### (ii)"
   ]
  },
  {
   "cell_type": "code",
   "execution_count": 26,
   "id": "f1e4e253-aba2-44dc-8340-e6b0cf243871",
   "metadata": {},
   "outputs": [
    {
     "name": "stdout",
     "output_type": "stream",
     "text": [
      "\n",
      "The mean of the generated samples is : 5.026 \n",
      "\n",
      "\n",
      "The variance of the generated samples is : 5.005324000000001 \n",
      "\n",
      "\n"
     ]
    }
   ],
   "source": [
    "#lam = 5 customers per day\n",
    "#size = 1000 random samples\n",
    "\n",
    "samples = random.poisson(lam = 5, size = 1000)\n",
    "\n",
    "#calculating the mean and variance\n",
    "samples_mean = np.mean(samples)\n",
    "samples_variance = np.var(samples)\n",
    "\n",
    "#printing the mean and variance using python\n",
    "print(f\"\\nThe mean of the generated samples is : {samples_mean}\",'\\n\\n')\n",
    "print(f\"The variance of the generated samples is : {samples_variance}\",'\\n\\n')"
   ]
  },
  {
   "cell_type": "markdown",
   "id": "be870fbd-179e-470a-8509-d4373f8db77c",
   "metadata": {},
   "source": [
    "#### (iii)"
   ]
  },
  {
   "cell_type": "code",
   "execution_count": 33,
   "id": "6e754009-504c-4001-b3b9-6c5397e8a778",
   "metadata": {},
   "outputs": [
    {
     "data": {
      "image/png": "[encoded data removed]",
      "text/plain": [
       "<Figure size 640x480 with 1 Axes>"
      ]
     },
     "metadata": {},
     "output_type": "display_data"
    }
   ],
   "source": [
    "poisson_data = random.poisson(lam = 5, size = 1000)\n",
    "\n",
    "#plotting a histogram\n",
    "sns.histplot(poisson_data,bins =8,kde= False , color = 'yellow')\n",
    "plt.title(\"Visualization of Poisson distribution of the samples \") # the title of the histogram\n",
    "plt.xlabel(\"Number of customers\") # name of the x-axis of the histogram\n",
    "plt.ylabel(\"Frequency\") #name of the y-axis of the histogram\n",
    "plt.show()"
   ]
  },
  {
   "cell_type": "code",
   "execution_count": null,
   "id": "5ae26c19-b476-4d90-90ee-117926e07da4",
   "metadata": {},
   "outputs": [],
   "source": []
  }
 ],
 "metadata": {
  "kernelspec": {
   "display_name": "Python 3 (ipykernel)",
   "language": "python",
   "name": "python3"
  },
  "language_info": {
   "codemirror_mode": {
    "name": "ipython",
    "version": 3
   },
   "file_extension": ".py",
   "mimetype": "text/x-python",
   "name": "python",
   "nbconvert_exporter": "python",
   "pygments_lexer": "ipython3",
   "version": "3.12.6"
  }
 },
 "nbformat": 4,
 "nbformat_minor": 5
}
